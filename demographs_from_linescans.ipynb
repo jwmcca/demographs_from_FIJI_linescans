{
 "cells": [
  {
   "cell_type": "markdown",
   "id": "0333d919",
   "metadata": {},
   "source": [
    "# Demograph generation from FIJI linescans. \n",
    "This is a basic code for generating a population demogrpah from individual linescans of cell profiles in ImageJ/FIJI. For this code to work properly, make sure your documents are properly organized.\n",
    "- Have this code in the same folder/directory as your experiment. \n",
    "- Make sure there is a sub-folder in this experiment called \"linescans.\" There, save all your CSV linescan exports from ImageJ.\n",
    "- Every CSV should be named \"Cell-xxxx.csv,\" where x's denote 0 padding. For example, linescan 1 would be \"Cell-0001.csv.\" You can use a different number of 0s depending on how many manual linescans you generate. If you expect to make at least 1000 linescans, write \"Cell-0001.csv,\" but between 999 and 100 linescans should be \"Cell-001.csv.\"\n",
    "- This will make a demograph and save it in the experiment folder. The specific code chunks below will explain what they do and what you can edit.\n",
    "\n",
    "Code by Joshua W. McCausland in the Christine Jacobs-Wagner lab, 2025."
   ]
  },
  {
   "cell_type": "markdown",
   "id": "76d7766b",
   "metadata": {},
   "source": [
    "This first code chunk loads the required packages.\n",
    "- If python says it is missing any package, you must install it. \n",
    "- If on Windows, go to \"Anaconda Prompt\" on the Anaconda Navigator homepage. This will open up a terminal with pyton access.\n",
    "- If on Mac, open your terminal. \n",
    "- From there, type \"pip install [package name]\" This will install the package.\n",
    "- For example, if you are missing the package tqdm, type \"pip install tqdm\" to install that package."
   ]
  },
  {
   "cell_type": "code",
   "execution_count": 3,
   "id": "d815bb5b",
   "metadata": {},
   "outputs": [],
   "source": [
    "import numpy as np # array and numerical functions.\n",
    "import pandas as pd # dataframe management\n",
    "import glob,os,re # file organization, naming, and string management\n",
    "from tqdm import tqdm # for displaying the progress.\n",
    "from matplotlib import pyplot as plt # plotting"
   ]
  },
  {
   "cell_type": "markdown",
   "id": "147ec49d",
   "metadata": {},
   "source": [
    "This code chunk below will load all of the linescans with the format \"Cell-xxxx.csv\" and store their information in a dataframe. Make sure the columns of your linescans have the title \"Gray_Value.\""
   ]
  },
  {
   "cell_type": "code",
   "execution_count": 13,
   "id": "f72eebe2",
   "metadata": {},
   "outputs": [
    {
     "name": "stderr",
     "output_type": "stream",
     "text": [
      "100%|███████████████████████████████████████| 1225/1225 [00:21<00:00, 57.80it/s]\n"
     ]
    },
    {
     "data": {
      "text/html": [
       "<div>\n",
       "<style scoped>\n",
       "    .dataframe tbody tr th:only-of-type {\n",
       "        vertical-align: middle;\n",
       "    }\n",
       "\n",
       "    .dataframe tbody tr th {\n",
       "        vertical-align: top;\n",
       "    }\n",
       "\n",
       "    .dataframe thead th {\n",
       "        text-align: right;\n",
       "    }\n",
       "</style>\n",
       "<table border=\"1\" class=\"dataframe\">\n",
       "  <thead>\n",
       "    <tr style=\"text-align: right;\">\n",
       "      <th></th>\n",
       "      <th>index</th>\n",
       "      <th>filename</th>\n",
       "      <th>sizes</th>\n",
       "      <th>linescan</th>\n",
       "    </tr>\n",
       "  </thead>\n",
       "  <tbody>\n",
       "    <tr>\n",
       "      <th>0</th>\n",
       "      <td>59</td>\n",
       "      <td>Cell-0059.csv</td>\n",
       "      <td>137</td>\n",
       "      <td>[138.05827, 138.05827, 147.19447, 188.81499, 2...</td>\n",
       "    </tr>\n",
       "    <tr>\n",
       "      <th>1</th>\n",
       "      <td>418</td>\n",
       "      <td>Cell-0418.csv</td>\n",
       "      <td>164</td>\n",
       "      <td>[1398.9775, 2283.1394, 2283.1394, 2655.581, 26...</td>\n",
       "    </tr>\n",
       "    <tr>\n",
       "      <th>2</th>\n",
       "      <td>903</td>\n",
       "      <td>Cell-0903.csv</td>\n",
       "      <td>170</td>\n",
       "      <td>[435.9821, 580.27875, 673.0409, 673.0409, 779....</td>\n",
       "    </tr>\n",
       "    <tr>\n",
       "      <th>3</th>\n",
       "      <td>284</td>\n",
       "      <td>Cell-0284.csv</td>\n",
       "      <td>194</td>\n",
       "      <td>[602.44916, 773.12616, 878.7834, 972.2493, 972...</td>\n",
       "    </tr>\n",
       "    <tr>\n",
       "      <th>4</th>\n",
       "      <td>370</td>\n",
       "      <td>Cell-0370.csv</td>\n",
       "      <td>212</td>\n",
       "      <td>[-11.613895, 109.8041, 138.31093, 130.92027, 1...</td>\n",
       "    </tr>\n",
       "  </tbody>\n",
       "</table>\n",
       "</div>"
      ],
      "text/plain": [
       "   index       filename  sizes  \\\n",
       "0     59  Cell-0059.csv    137   \n",
       "1    418  Cell-0418.csv    164   \n",
       "2    903  Cell-0903.csv    170   \n",
       "3    284  Cell-0284.csv    194   \n",
       "4    370  Cell-0370.csv    212   \n",
       "\n",
       "                                            linescan  \n",
       "0  [138.05827, 138.05827, 147.19447, 188.81499, 2...  \n",
       "1  [1398.9775, 2283.1394, 2283.1394, 2655.581, 26...  \n",
       "2  [435.9821, 580.27875, 673.0409, 673.0409, 779....  \n",
       "3  [602.44916, 773.12616, 878.7834, 972.2493, 972...  \n",
       "4  [-11.613895, 109.8041, 138.31093, 130.92027, 1...  "
      ]
     },
     "metadata": {},
     "output_type": "display_data"
    }
   ],
   "source": [
    "# identify all csv files in the linescans folder.\n",
    "linescans = glob.glob('linescans/*.csv')\n",
    "\n",
    "# Create a blank dataframe that we will populate.\n",
    "df = pd.DataFrame()\n",
    "\n",
    "#Iterate through the linescans folder and archive the individual linescan data.\n",
    "for linescan_file in tqdm(linescans):\n",
    "\n",
    "    # Pull up the current linescan in the iteration.\n",
    "    linescan_curr = pd.read_csv(linescan_file)\n",
    "\n",
    "    # Find the linescan number in the filename.\n",
    "    linescan_num = np.array(re.findall(r'\\d+', linescan_file),dtype=int)[0]\n",
    "\n",
    "    # Pull out the information for the current linescan.\n",
    "    temp_df = pd.DataFrame({\n",
    "        'filename': os.path.basename(linescan_file), # Store the filename.\n",
    "        'sizes': linescan_curr.shape[0], # Store the size of the linescan.\n",
    "        'linescan': [linescan_curr.Gray_Value.values] # Store the linescan itself.\n",
    "    },index = [linescan_num])  \n",
    "\n",
    "    # add the current linescan to the dataframe.\n",
    "    df = pd.concat([df,temp_df],axis=0)\n",
    "\n",
    "# Sort the dataframe from the shortest to the longest linescan.\n",
    "df = df.sort_values('sizes').reset_index()\n",
    "\n",
    "# Display the first five rows of the dataframe as an example.\n",
    "display(df.head(5))"
   ]
  },
  {
   "cell_type": "markdown",
   "id": "60c3b98c",
   "metadata": {},
   "source": [
    "This next code chunk will make the demograph array from all the linescans, lining the scans from shortest to longest and centering them."
   ]
  },
  {
   "cell_type": "code",
   "execution_count": 14,
   "id": "7c1f7a46",
   "metadata": {},
   "outputs": [
    {
     "name": "stdout",
     "output_type": "stream",
     "text": [
      "The demograph is prepared.\n"
     ]
    }
   ],
   "source": [
    "# make an empty array of the shape of largest linescan by the number of linesecans.\n",
    "demo = np.empty([df.sizes.max()+1,df.shape[0]])\n",
    "\n",
    "# populate this empty array with NaN values. Important for displaying later.\n",
    "demo[:] = np.nan\n",
    "\n",
    "# Find the index of the dataframe that marks half of the longest linescan. \n",
    "# This is for centering linesecans.\n",
    "half_width = np.ceil(df.sizes.max()/2).astype(int)\n",
    "\n",
    "# Iterate through our linescan dataframe and populate the demograph array.\n",
    "for index,row in df.iterrows():\n",
    "\n",
    "    # pull up the current linescan.\n",
    "    linescan = row.linescan\n",
    "\n",
    "    # Find what indexes the bottom and top of the linescan will populate. \n",
    "    linescan_bottom = np.floor(len(linescan)/2).astype(int)\n",
    "    linescan_top = np.ceil(len(linescan)/2).astype(int)\n",
    "\n",
    "    # Use the bottom/top indexes of the linescan and orient them according to the halfway mark of the demograph array.\n",
    "    # Normalize linescans by z-score. We are interested in WHERE signal is enriched in any one cell. Not comparing signal across cells.\n",
    "    demo[half_width-linescan_bottom:half_width+linescan_top,index] = (linescan-linescan.mean())/linescan.std()\n",
    "print('The demograph is prepared.')"
   ]
  },
  {
   "cell_type": "markdown",
   "id": "73f196df",
   "metadata": {},
   "source": [
    "Now plot the demograph. This will take the demograph array and plot it as an image."
   ]
  },
  {
   "cell_type": "code",
   "execution_count": 15,
   "id": "c536344e",
   "metadata": {},
   "outputs": [
    {
     "name": "stderr",
     "output_type": "stream",
     "text": [
      "/var/folders/90/_9d_lyss2d915_2hpwp_lst00000gn/T/ipykernel_81503/4255995388.py:40: UserWarning: The figure layout has changed to tight\n",
      "  fig.tight_layout(h_pad=2.5)\n"
     ]
    },
    {
     "data": {
      "image/png": "[encoded data removed]",
      "text/plain": [
       "<Figure size 300x300 with 2 Axes>"
      ]
     },
     "metadata": {},
     "output_type": "display_data"
    }
   ],
   "source": [
    "###############################################################################\n",
    "# EDITABLE SECTION. Specify your experiment and plotting parameters here.A\n",
    "# Put in the pixel size of your experiment here.\n",
    "px_size = 0.065 # microns per pixel.\n",
    "\n",
    "# the name by which your demograph will be saved.\n",
    "savename = 'example_demograph'\n",
    "\n",
    "# The size of the figure in inches, width x height.\n",
    "figure_size = [3,3]\n",
    "\n",
    "# The colormap of choice to display the demograph.\n",
    "# Refer to matplotlb's colormap choices: https://matplotlib.org/stable/users/explain/colors/colormaps.html\n",
    "color_map = 'inferno'\n",
    "###############################################################################\n",
    "\n",
    "# Generate a figure of the specified size above.\n",
    "fig,_ax = plt.subplots(figsize=figure_size,layout = 'constrained')\n",
    "\n",
    "# plot the demograph. \n",
    "# NOTE. vmin and vmax are the min/max colors for z-score plotting. change these if you need. \n",
    "# vmin=-2 and vmax=3 work for my experiments, but may not in every case. \n",
    "cax = _ax.imshow(demo.T,cmap=color_map,vmin = -2,vmax=3, aspect=\"auto\",interpolation = 'gaussian')\n",
    "\n",
    "# Using the pixel size, generate xticks according to even spaces of cell length from the midcell position.\n",
    "midpoint = np.ceil((df.sizes.max()+1)/2)\n",
    "xtick_locations = [midpoint+midpoint,midpoint-midpoint, midpoint-midpoint/2, midpoint, midpoint+midpoint/2]\n",
    "_ax.xaxis.set_ticks(xtick_locations,np.round((xtick_locations-midpoint)*px_size,1),fontsize=9)\n",
    "\n",
    "# Plot x and y labels.\n",
    "_ax.set_xlabel('Cell position ($\\mu$m)')\n",
    "_ax.set_ylabel('Cell number')\n",
    "\n",
    "# Plot formatting.\n",
    "_ax.spines[['top','right']].set_visible(False)\n",
    "_ax.spines[['bottom','left']].set_linewidth(1)\n",
    "_ax.tick_params(axis='both',labelsize=9)\n",
    "\n",
    "# place a colorbar to depict the range of the z-score.\n",
    "fig.tight_layout(h_pad=2.5)\n",
    "fig.subplots_adjust(right=0.8)\n",
    "cbar_ax = fig.add_axes([0.85, 0.35, 0.015, 0.4])\n",
    "cbar = fig.colorbar(cax, cax=cbar_ax,label='$z$-score')\n",
    "cbar.ax.tick_params(labelsize=9)\n",
    "cbar.ax.set_yticks([-2,-1,0,1,2,3])\n",
    "\n",
    "# save the figure in both PDF and PNG using your specified savename.\n",
    "plt.savefig(f'{savename}.pdf',dpi=600,bbox_inches='tight')\n",
    "plt.savefig(f'{savename}.png',dpi=600,bbox_inches='tight')"
   ]
  }
 ],
 "metadata": {
  "kernelspec": {
   "display_name": "Python 3 (ipykernel)",
   "language": "python",
   "name": "python3"
  },
  "language_info": {
   "codemirror_mode": {
    "name": "ipython",
    "version": 3
   },
   "file_extension": ".py",
   "mimetype": "text/x-python",
   "name": "python",
   "nbconvert_exporter": "python",
   "pygments_lexer": "ipython3",
   "version": "3.11.6"
  }
 },
 "nbformat": 4,
 "nbformat_minor": 5
}
